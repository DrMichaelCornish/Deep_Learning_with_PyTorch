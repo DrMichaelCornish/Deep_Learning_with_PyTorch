{
 "cells": [
  {
   "attachments": {},
   "cell_type": "markdown",
   "metadata": {},
   "source": [
    "Model architectures, possibly along with pre-trained weights, can be loaded into torch with the Torch Hub mechanism. \n",
    "\n",
    "A model simply requires a hubconf.py file with the following format:\n",
    "\n",
    "```python\n",
    "# specify packages needed to make model work\n",
    "dependencies = ['torch', 'math'] \n",
    "\n",
    "# function to instantiate some model\n",
    "# (could be model architeture with random initialization)\n",
    "def some_entry_fn(*args, **kwargs):\n",
    "    model = build_some_model(*args, **kwargs)\n",
    "    return model\n",
    "\n",
    "# function to instantiate some other model \n",
    "# (could be same model with different weights)\n",
    "def another_entry_fn(*args, **kwargs):\n",
    "    model = build_some_model(*args, **kwargs)\n",
    "    return model\n",
    "```"
   ]
  },
  {
   "cell_type": "code",
   "execution_count": 4,
   "metadata": {},
   "outputs": [
    {
     "name": "stderr",
     "output_type": "stream",
     "text": [
      "Using cache found in /Users/work/.cache/torch/hub/pytorch_vision_main\n",
      "/Users/work/temp_Repos_2/Deep_Learning_with_PyTorch/venv/lib/python3.13/site-packages/torchvision/models/_utils.py:208: UserWarning: The parameter 'pretrained' is deprecated since 0.13 and may be removed in the future, please use 'weights' instead.\n",
      "  warnings.warn(\n",
      "/Users/work/temp_Repos_2/Deep_Learning_with_PyTorch/venv/lib/python3.13/site-packages/torchvision/models/_utils.py:223: UserWarning: Arguments other than a weight enum or `None` for 'weights' are deprecated since 0.13 and may be removed in the future. The current behavior is equivalent to passing `weights=ResNet18_Weights.IMAGENET1K_V1`. You can also use `weights=ResNet18_Weights.DEFAULT` to get the most up-to-date weights.\n",
      "  warnings.warn(msg)\n"
     ]
    }
   ],
   "source": [
    "# you need to import torchvision before loading a vision model, aparently \n",
    "# otherwhise, the loaded model tries to load a differen version (I think)\n",
    "# which causes issues later when trying to import torchvision afterwards\n",
    "# plus the model loading will fail in the first place. \n",
    "import torch\n",
    "from torch import hub\n",
    "import torchvision\n",
    "\n",
    "# example how to load a model\n",
    "# here we are taking models directly from pytorch's github\n",
    "# but any other github with the appropriate Hub mechanism format will work\n",
    "\n",
    "resnet18_model = hub.load('pytorch/vision:main', # specify the github location (including branch) Note: main not master now\n",
    "                          'resnet18', # specify the entry point function name (here a pretrained)\n",
    "                            pretrained = True # keyword arguments for the entry point function\n",
    "                          )"
   ]
  },
  {
   "attachments": {},
   "cell_type": "markdown",
   "metadata": {},
   "source": [
    "The above code yields an error. This is likely due to a versioning issue. "
   ]
  },
  {
   "cell_type": "code",
   "execution_count": 5,
   "metadata": {},
   "outputs": [
    {
     "data": {
      "text/plain": [
       "'2.6.0'"
      ]
     },
     "execution_count": 5,
     "metadata": {},
     "output_type": "execute_result"
    }
   ],
   "source": [
    "torch.__version__"
   ]
  },
  {
   "cell_type": "code",
   "execution_count": 6,
   "metadata": {},
   "outputs": [
    {
     "data": {
      "text/plain": [
       "'0.21.0'"
      ]
     },
     "execution_count": 6,
     "metadata": {},
     "output_type": "execute_result"
    }
   ],
   "source": [
    "torchvision.__version__"
   ]
  },
  {
   "cell_type": "code",
   "execution_count": null,
   "metadata": {},
   "outputs": [],
   "source": []
  },
  {
   "cell_type": "code",
   "execution_count": null,
   "metadata": {},
   "outputs": [],
   "source": []
  }
 ],
 "metadata": {
  "kernelspec": {
   "display_name": "Deep Learning with Python (venv)",
   "language": "python",
   "name": "venv"
  },
  "language_info": {
   "codemirror_mode": {
    "name": "ipython",
    "version": 3
   },
   "file_extension": ".py",
   "mimetype": "text/x-python",
   "name": "python",
   "nbconvert_exporter": "python",
   "pygments_lexer": "ipython3",
   "version": "3.13.2"
  },
  "orig_nbformat": 4
 },
 "nbformat": 4,
 "nbformat_minor": 2
}
